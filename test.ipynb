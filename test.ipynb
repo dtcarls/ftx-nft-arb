{
 "cells": [
  {
   "cell_type": "code",
   "execution_count": 1,
   "metadata": {},
   "outputs": [],
   "source": [
    "import requests\n",
    "import json"
   ]
  },
  {
   "cell_type": "code",
   "execution_count": 19,
   "metadata": {},
   "outputs": [],
   "source": [
    "collection = \"Parallel\"\n",
    "response = requests.get(\n",
    "    'https://ftx.us/api/nft/nfts_filtered?startInclusive=0&endExclusive=1000000000&nft_filter_string={\"collection\":\"' + collection + '\",\"nftAuctionFilter\":\"buyNow\",\"minPriceFilter\":null,\"maxPriceFilter\":null,\"seriesFilter\":[],\"traitsFilter\":{},\"include_not_for_sale\":true}&sortFunc=name_asc')"
   ]
  },
  {
   "cell_type": "code",
   "execution_count": null,
   "metadata": {},
   "outputs": [],
   "source": [
    "try:\n",
    "    for NFT in response.json()['result']['nfts']:\n",
    "        # print(NFT)\n",
    "        print(NFT['ethTokenId']+\" - \"+NFT['name']+\" - \"+str(NFT['offerPrice'])+\" \"+NFT['quoteCurrency'])\n",
    "        # break;\n",
    "except json.decoder.JSONDecodeError:\n",
    "    print(\"Can't reach ftx.\")"
   ]
  },
  {
   "cell_type": "code",
   "execution_count": 16,
   "metadata": {},
   "outputs": [],
   "source": [
    "#all parallel\n",
    "url = \"https://api.opensea.io/api/v1/assets\"\n",
    "asset_contract_address = '0x76BE3b62873462d2142405439777e971754E8E77'  # Currently set to Parallel\n",
    "\n",
    "querystring = {\"offset\": \"0\", \"asset_contract_address\": asset_contract_address, \"order_by\": \"sale_count\"}\n",
    "response = requests.request(\"GET\", url, headers={\"Accept\": \"application/json\"}, params=querystring)"
   ]
  },
  {
   "cell_type": "code",
   "execution_count": 16,
   "metadata": {},
   "outputs": [],
   "source": [
    "#single asset\n",
    "url = \"https://api.opensea.io/api/v1/asset/\"\n",
    "asset_contract_address = '0x76BE3b62873462d2142405439777e971754E8E77'  # Currently set to Parallel\n",
    "token_id = '10153'\n",
    "\n",
    "url=url+asset_contract_address+'/'+token_id\n",
    "response = requests.request(\"GET\", url, headers={\"Accept\": \"application/json\"})"
   ]
  },
  {
   "cell_type": "code",
   "execution_count": 17,
   "metadata": {},
   "outputs": [],
   "source": [
    "orders = response.json()['orders']"
   ]
  },
  {
   "cell_type": "code",
   "execution_count": 19,
   "metadata": {},
   "outputs": [
    {
     "name": "stdout",
     "output_type": "stream",
     "text": [
      "300000000000000\n",
      "2\n",
      "0.015\n",
      "100000000000000\n",
      "1\n",
      "0.01\n",
      "40000000000000\n",
      "1\n",
      "0.004\n"
     ]
    }
   ],
   "source": [
    "#side 0 = offer\n",
    "#side 1 = listing\n",
    "largest_offer = 0\n",
    "for order in orders:\n",
    "    if order['side'] == 0:\n",
    "        offer = (int(order['current_bounty'])/int(order['quantity']))/10000000000000000\n",
    "        if offer>largest_offer:\n",
    "            largest_offer=offer\n",
    "        #break;"
   ]
  },
  {
   "cell_type": "code",
   "execution_count": null,
   "metadata": {},
   "outputs": [],
   "source": [
    "print(response.json)\n",
    "json_resp = json.loads(response.text)\n",
    "print(json.dumps(json_resp, indent=2))"
   ]
  },
  {
   "cell_type": "code",
   "execution_count": 30,
   "metadata": {},
   "outputs": [
    {
     "name": "stdout",
     "output_type": "stream",
     "text": [
      "39000000000000000\n"
     ]
    }
   ],
   "source": [
    "print(response.json()['last_sale']['total_price'])\n"
   ]
  },
  {
   "cell_type": "code",
   "execution_count": 33,
   "metadata": {},
   "outputs": [
    {
     "name": "stdout",
     "output_type": "stream",
     "text": [
      "0.039\n"
     ]
    }
   ],
   "source": [
    "print(39000000000000000/1000000000000000000)"
   ]
  }
 ],
 "metadata": {
  "interpreter": {
   "hash": "c91d3a96a2ef306e81b4add3d261458666bad59b2de409679f7729686b2e64f9"
  },
  "kernelspec": {
   "display_name": "Python 3.8.10 64-bit ('.venv': venv)",
   "language": "python",
   "name": "python3"
  },
  "language_info": {
   "codemirror_mode": {
    "name": "ipython",
    "version": 3
   },
   "file_extension": ".py",
   "mimetype": "text/x-python",
   "name": "python",
   "nbconvert_exporter": "python",
   "pygments_lexer": "ipython3",
   "version": "3.8.10"
  },
  "orig_nbformat": 4
 },
 "nbformat": 4,
 "nbformat_minor": 2
}
