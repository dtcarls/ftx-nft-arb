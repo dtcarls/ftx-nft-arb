{
 "cells": [
  {
   "cell_type": "code",
   "execution_count": 17,
   "metadata": {},
   "outputs": [],
   "source": [
    "import requests\n",
    "import json\n",
    "import urllib"
   ]
  },
  {
   "cell_type": "code",
   "execution_count": 18,
   "metadata": {},
   "outputs": [],
   "source": [
    "# https://ftx.us/api/nft/collection_names?startInclusive=0&endExclusive=50&collectionType=eth\n",
    "# https://ftx.us/api/nft/collection/Bored%20Ape%20Yacht%20Club\n",
    "collection_names = requests.get('https://ftx.us/api/nft/collection_names?startInclusive=0&endExclusive=50&collectionType=eth')\n",
    "collection_names=collection_names.json()['result']['collections']\n",
    "# collection_test = requests.get('https://ftx.us/api/nft/collection/Bored%20Ape%20Yacht%20Club')\n",
    "collection_base_url='https://ftx.us/api/nft/collection/'"
   ]
  },
  {
   "cell_type": "code",
   "execution_count": 21,
   "metadata": {},
   "outputs": [
    {
     "name": "stdout",
     "output_type": "stream",
     "text": [
      "Blitmap\n",
      "Bored%20Ape%20Kennel%20Club\n",
      "Bored%20Ape%20Yacht%20Club\n",
      "CrypToadz%20by%20GREMPLIN\n",
      "CryptoKitties\n",
      "CryptoPunks\n",
      "DeadFellaz\n",
      "Depictives\n",
      "Doodles\n",
      "loomlocknft%20%28Wassies%29\n",
      "Meebits\n",
      "Mutant%20Ape%20Yacht%20Club\n",
      "OnChain%20Monkey\n",
      "Parallel\n",
      "Pudgy%20Penguins\n",
      "Somnium%20Space%20VR\n",
      "The%20Doge%20Pound\n",
      "the%20littles%20NFT\n",
      "Wonky%20Stonks\n",
      "World%20of%20Women\n"
     ]
    }
   ],
   "source": [
    "for collection_name in collection_names:\n",
    "    collection = requests.get('https://ftx.us/api/nft/collection/'+urllib.parse.quote(collection_name))\n",
    "    floor = collection.json()['result']['floor_price']\n",
    "    floor_currency = collection.json()['result']['floor_price_currency']\n",
    "    if floor:\n",
    "        print(collection_name+' - '+str(floor)+' '+floor_currency)\n"
   ]
  },
  {
   "cell_type": "code",
   "execution_count": null,
   "metadata": {},
   "outputs": [],
   "source": [
    "print(collection_test.json())\n",
    "print(str(collection_test.json()['result']['floor_price'])+collection_test.json()['result']['floor_price_currency'])"
   ]
  },
  {
   "cell_type": "code",
   "execution_count": 24,
   "metadata": {},
   "outputs": [],
   "source": [
    "os_collection = requests.get('https://api.opensea.io/api/v1/collection/blitmap/stats')\n",
    "os_floor = os_collection.json()"
   ]
  },
  {
   "cell_type": "code",
   "execution_count": 26,
   "metadata": {},
   "outputs": [
    {
     "name": "stdout",
     "output_type": "stream",
     "text": [
      "5.69\n"
     ]
    }
   ],
   "source": [
    "print(os_floor['stats']['floor_price'])"
   ]
  },
  {
   "cell_type": "code",
   "execution_count": null,
   "metadata": {},
   "outputs": [],
   "source": [
    "example_nft=requests.get('https://ftx.us/api/nft/example_nft?collection=Bored%20Ape%20Yacht%20Club')"
   ]
  },
  {
   "cell_type": "code",
   "execution_count": null,
   "metadata": {},
   "outputs": [],
   "source": [
    "# print(example_nft.json())\n",
    "print(example_nft.json()['result']['ethContractAddress'])"
   ]
  },
  {
   "cell_type": "code",
   "execution_count": null,
   "metadata": {},
   "outputs": [],
   "source": [
    "#all bored apes\n",
    "url = \"https://api.opensea.io/api/v1/assets\"\n",
    "asset_contract_address = '0xBC4CA0EdA7647A8aB7C2061c2E118A18a936f13D'  # Currently set to bored apes\n",
    "\n",
    "querystring = {\"offset\": \"0\", \"asset_contract_address\": asset_contract_address, \"order_by\": \"sale_count\"}\n",
    "response = requests.request(\"GET\", url, headers={\"Accept\": \"application/json\"}, params=querystring)"
   ]
  },
  {
   "cell_type": "code",
   "execution_count": null,
   "metadata": {},
   "outputs": [],
   "source": [
    "#single asset\n",
    "url = \"https://api.opensea.io/api/v1/asset/\"\n",
    "asset_contract_address = '0xBC4CA0EdA7647A8aB7C2061c2E118A18a936f13D'  # Currently set to bored apes\n",
    "token_id = '10153'\n",
    "\n",
    "url=url+asset_contract_address+'/'+token_id\n",
    "response = requests.request(\"GET\", url, headers={\"Accept\": \"application/json\"})"
   ]
  },
  {
   "cell_type": "code",
   "execution_count": 16,
   "metadata": {},
   "outputs": [
    {
     "name": "stdout",
     "output_type": "stream",
     "text": [
      "0.025\n"
     ]
    }
   ],
   "source": [
    "rake=requests.get('https://api.opensea.io/api/v1/asset_contract/'+asset_contract_address).json()['opensea_seller_fee_basis_points']\n",
    "rake=rake*0.0001\n",
    "print(rake)"
   ]
  },
  {
   "cell_type": "code",
   "execution_count": null,
   "metadata": {},
   "outputs": [],
   "source": [
    "#side 0 = offer\n",
    "#side 1 = listing\n",
    "largest_offer = 0\n",
    "for order in orders:\n",
    "    if order['side'] == 0:\n",
    "        offer = (int(order['current_bounty'])/int(order['quantity']))/10000000000000000\n",
    "        if offer>largest_offer:\n",
    "            largest_offer=offer\n",
    "        #break;"
   ]
  },
  {
   "cell_type": "code",
   "execution_count": null,
   "metadata": {},
   "outputs": [],
   "source": [
    "print(response.json)\n",
    "json_resp = json.loads(response.text)\n",
    "print(json.dumps(json_resp, indent=2))"
   ]
  },
  {
   "cell_type": "code",
   "execution_count": null,
   "metadata": {},
   "outputs": [],
   "source": [
    "print(response.json()['last_sale']['total_price'])\n"
   ]
  },
  {
   "cell_type": "code",
   "execution_count": null,
   "metadata": {},
   "outputs": [],
   "source": [
    "#all swaps\n",
    "#https://apl4mh4j0c.execute-api.us-west-2.amazonaws.com/Prod/v2/orders?PageSize=25&PageLimit=1\n",
    "\n",
    "#swap by ID\n",
    "#https://apl4mh4j0c.execute-api.us-west-2.amazonaws.com/Prod/orders/6?AccountId=0xa4036081f80d3b29047633df47098aa87d044f52\n",
    "\n",
    "url = \"https://apl4mh4j0c.execute-api.us-west-2.amazonaws.com/Prod/v2/orders?PageSize=25&PageLimit=1\"\n",
    "response = requests.request(\"GET\", url, headers={\"Accept\": \"application/json\"})"
   ]
  },
  {
   "cell_type": "code",
   "execution_count": null,
   "metadata": {},
   "outputs": [],
   "source": [
    "print(response.json())"
   ]
  }
 ],
 "metadata": {
  "interpreter": {
   "hash": "c91d3a96a2ef306e81b4add3d261458666bad59b2de409679f7729686b2e64f9"
  },
  "kernelspec": {
   "display_name": "Python 3.8.10 64-bit ('.venv': venv)",
   "language": "python",
   "name": "python3"
  },
  "language_info": {
   "codemirror_mode": {
    "name": "ipython",
    "version": 3
   },
   "file_extension": ".py",
   "mimetype": "text/x-python",
   "name": "python",
   "nbconvert_exporter": "python",
   "pygments_lexer": "ipython3",
   "version": "3.8.10"
  },
  "orig_nbformat": 4
 },
 "nbformat": 4,
 "nbformat_minor": 2
}
